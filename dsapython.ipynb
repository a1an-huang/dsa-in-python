{
 "cells": [
  {
   "cell_type": "code",
   "metadata": {},
   "source": [
    " class Node:\n",
    "   def __init__(self, val):\n",
    "    self.val = val\n",
    "    self.next = None\n"
   ]
  },
  {
   "cell_type": "code",
   "execution_count": null,
   "metadata": {},
   "outputs": [],
   "source": [
    "def linked_list_values(head):\n",
    "    lst, ptr = [], head             \n",
    "    while ptr is not None:\n",
    "        lst.append(ptr.val)    \n",
    "        ptr = ptr.next              \n",
    "    return lst                      "
   ]
  },
  {
   "cell_type": "code",
   "execution_count": null,
   "metadata": {},
   "outputs": [],
   "source": [
    "def sum_list(head):\n",
    "    sum, ptr = 0, head\n",
    "    while ptr is not None:\n",
    "        sum += ptr.val\n",
    "        ptr = ptr.next\n",
    "    return sum"
   ]
  },
  {
   "cell_type": "code",
   "execution_count": null,
   "metadata": {},
   "outputs": [],
   "source": [
    "def linked_list_find(head, target):\n",
    "    ptr = head\n",
    "    while ptr is not None:\n",
    "        if ptr.val == target:\n",
    "            return True\n",
    "        ptr = ptr.next\n",
    "    return False\n"
   ]
  },
  {
   "cell_type": "code",
   "execution_count": null,
   "metadata": {},
   "outputs": [],
   "source": [
    "def get_node_value(head, index):\n",
    "    ptr, counter = head, 0\n",
    "    while ptr is not None:\n",
    "        if counter == index:\n",
    "            return ptr.val\n",
    "        ptr = ptr.next\n",
    "        counter += 1\n",
    "    return None"
   ]
  },
  {
   "cell_type": "code",
   "execution_count": null,
   "metadata": {},
   "outputs": [],
   "source": [
    "def reverse_list(head):\n",
    "    ptr, prev, next = head, None, head\n",
    "    while ptr is not None:\n",
    "        next = ptr.next\n",
    "        ptr.next = prev\n",
    "        prev = ptr\n",
    "        ptr = next\n",
    "    head = prev\n",
    "    return head\n",
    "        "
   ]
  },
  {
   "cell_type": "code",
   "execution_count": null,
   "metadata": {},
   "outputs": [],
   "source": [
    "def zipper_lists(head_1, head_2):\n",
    "    ptr, ptr2 = head_1,head_2\n",
    "    while ptr or ptr2 is not None:\n",
    "        next = ptr.next\n",
    "        next2 = ptr2.next\n",
    "        if next is None:\n",
    "            ptr.next = ptr2\n",
    "            break\n",
    "        if next2 is None:\n",
    "            ptr.next = ptr2\n",
    "            ptr2.next = next\n",
    "            break\n",
    "        ptr.next = ptr2\n",
    "        ptr2.next = next\n",
    "        ptr = next\n",
    "        ptr2 = next2\n",
    "    return head_1"
   ]
  }
 ],
 "metadata": {
  "language_info": {
   "name": "python"
  },
  "orig_nbformat": 4
 },
 "nbformat": 4,
 "nbformat_minor": 2
}
