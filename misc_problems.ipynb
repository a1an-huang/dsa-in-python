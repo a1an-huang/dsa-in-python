{
 "cells": [
  {
   "cell_type": "code",
   "execution_count": null,
   "metadata": {},
   "outputs": [],
   "source": [
    "def hammingWeight(n):\n",
    "    nStr = str(n)\n",
    "    count = 0\n",
    "    for v in nStr:\n",
    "        if v == '1':\n",
    "            count +=1\n",
    "    return count\n",
    "hammingWeight(10111)"
   ]
  },
  {
   "cell_type": "code",
   "execution_count": null,
   "metadata": {},
   "outputs": [],
   "source": [
    "def sortedSquares(nums):\n",
    "        ptr, lst = int(len(nums) /2) , []\n",
    "        ptr2 = ptr + 1\n",
    "        while ptr > -1 or ptr2 < len(nums):\n",
    "                print(f\"{ptr} {ptr2}\")\n",
    "                if ptr < 0:\n",
    "                    lst.append(pow(nums[ptr2], 2))\n",
    "                    ptr2 += 1\n",
    "                    continue\n",
    "                if ptr2 > len(nums) - 1:\n",
    "                    lst.append(pow(nums[ptr], 2))\n",
    "                    ptr -= 1\n",
    "                    continue\n",
    "                if pow(nums[ptr2], 2) > pow(nums[ptr], 2):\n",
    "                    lst.append(pow(nums[ptr], 2))\n",
    "                    ptr -= 1\n",
    "                else:\n",
    "                    lst.append(pow(nums[ptr2], 2)) \n",
    "                    ptr2 += 1\n",
    "        return lst\n",
    "sortedSquares([0,2])"
   ]
  }
 ],
 "metadata": {
  "interpreter": {
   "hash": "f378046ff75005a1ff49e1f5139c41f091d03217a7661343287a9297ad9ffbe5"
  },
  "kernelspec": {
   "display_name": "Python 3.10.4 64-bit (windows store)",
   "language": "python",
   "name": "python3"
  },
  "language_info": {
   "codemirror_mode": {
    "name": "ipython",
    "version": 3
   },
   "file_extension": ".py",
   "mimetype": "text/x-python",
   "name": "python",
   "nbconvert_exporter": "python",
   "pygments_lexer": "ipython3",
   "version": "3.10.4"
  },
  "orig_nbformat": 4
 },
 "nbformat": 4,
 "nbformat_minor": 2
}
