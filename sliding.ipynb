{
 "cells": [
  {
   "cell_type": "code",
   "execution_count": null,
   "metadata": {},
   "outputs": [],
   "source": [
    "def max_sub_array_of_size_k(k, arr):\n",
    "  _result, _sum, start = 0, 0 , 0   \n",
    "  for i in range(len(arr)):         \n",
    "      _sum += arr[i]\n",
    "      if i >= k - 1:\n",
    "        _result = max(_result, _sum)\n",
    "        _sum -= arr[start]\n",
    "        start += 1\n",
    "  return _result\n",
    "print(max_sub_array_of_size_k(3,  [2, 1, 5, 1, 3, 2]))\n",
    "print(max_sub_array_of_size_k(2,  [2, 3, 4, 1, 5]))"
   ]
  },
  {
   "cell_type": "code",
   "execution_count": null,
   "metadata": {},
   "outputs": [],
   "source": [
    "def max_sub_array_of_size_k(k, arr):\n",
    "    sum, maxsum, start = 0, 0, 0\n",
    "    for i in range(len(arr)):\n",
    "        sum += arr[i]\n",
    "        if i > k - 1 :\n",
    "            sum -= arr[start]\n",
    "            start += 1\n",
    "        maxsum = max(maxsum, sum)\n",
    "    return maxsum"
   ]
  },
  {
   "cell_type": "code",
   "execution_count": null,
   "metadata": {},
   "outputs": [],
   "source": [
    "def smallest_subarray_sum(s, arr):\n",
    "  _result, _sum, start = float(\"inf\"), 0 , 0\n",
    "  for i in range(len(arr)):\n",
    "    _sum += arr[i]\n",
    "    while _sum >= s:\n",
    "        if _sum >= s:\n",
    "            _result = min(_result, i - start + 1)\n",
    "        _sum -= arr[start]\n",
    "        start += 1\n",
    "  if _result == float(\"inf\"):\n",
    "    _result = 0\n",
    "  return _result\n",
    "print(smallest_subarray_sum(7, [2, 1, 5, 2, 3, 2]))\n",
    "print(smallest_subarray_sum(7, [2, 1, 5, 2, 8]))\n",
    "print(smallest_subarray_sum(8, [3, 4, 1, 1, 6]))"
   ]
  },
  {
   "cell_type": "code",
   "execution_count": null,
   "metadata": {},
   "outputs": [],
   "source": [
    "def smallest_subarray_sum(s, arr):\n",
    "    return -1"
   ]
  },
  {
   "cell_type": "code",
   "execution_count": null,
   "metadata": {},
   "outputs": [],
   "source": [
    "def longest_substring_with_k_distinct(str1, k):\n",
    "    lst, start, res, counter = {}, 0, 0, 0\n",
    "    for i in str1:\n",
    "        if i not in lst:\n",
    "            lst[i] = 0\n",
    "        lst[i] += 1\n",
    "        counter += 1\n",
    "        while len(lst) > k :\n",
    "            lst[str1[start]] -= 1\n",
    "            if lst[str1[start]] == 0:\n",
    "                del lst[str1[start]]\n",
    "            start += 1\n",
    "            counter -= 1\n",
    "        res = max(res, counter)\n",
    "    return res\n",
    "print(longest_substring_with_k_distinct(\"araaci\", 2))\n",
    "print(longest_substring_with_k_distinct(\"araaci\", 1))\n",
    "print(longest_substring_with_k_distinct(\"cbbebi\", 3))\n",
    "print(longest_substring_with_k_distinct(\"cbbebi\", 10))\n"
   ]
  },
  {
   "cell_type": "code",
   "execution_count": null,
   "metadata": {},
   "outputs": [],
   "source": [
    "def fruits_into_baskets(fruits):\n",
    "    dict, start, count = {}, 0 , 0\n",
    "    for i in range(len(fruits)):\n",
    "        if fruits[i] not in dict:\n",
    "            dict[fruits[i]] = 0\n",
    "        dict[fruits[i]] += 1\n",
    "        while len(dict) > 2:\n",
    "            dict[fruits[start]] -= 1\n",
    "            if dict[fruits[start]] == 0:\n",
    "                del dict[fruits[start]]\n",
    "            start += 1\n",
    "        count = max(count, i - start + 1)\n",
    "    return count"
   ]
  },
  {
   "cell_type": "code",
   "execution_count": null,
   "metadata": {},
   "outputs": [],
   "source": [
    "def non_repeat_substring(str):\n",
    "    _set, start, result = set([]), 0 , 0\n",
    "    for i in range(len(str)):\n",
    "        if str[i] in _set:\n",
    "            start += 1\n",
    "            result = max(result, i - start + 1)\n",
    "        _set.add(str[i])\n",
    "    return result\n",
    "non_repeat_substring(\"aabccbb\")"
   ]
  },
  {
   "cell_type": "code",
   "execution_count": null,
   "metadata": {},
   "outputs": [],
   "source": [
    "def length_of_longest_substring(str1, k):\n",
    "  dict, start, _max = {}, 0, 0\n",
    "  for i in range(len(str1)):\n",
    "      if str1[i] not in dict:\n",
    "        dict[str1[i]] = 0\n",
    "      dict[str1[i]] += 1\n",
    "      _max = max(_max, dict[str1[i]] + k) \n",
    "      while i - start - _max > k:\n",
    "        dict[str1[start]] -= 1\n",
    "        start += 1\n",
    "  return _max\n",
    "length_of_longest_substring(\"abccde\", 1)"
   ]
  },
  {
   "cell_type": "code",
   "execution_count": null,
   "metadata": {},
   "outputs": [],
   "source": [
    "def length_of_longest_substring(arr, k):\n",
    "    dict, start, res = {0:0, 1:0}, 0, 0\n",
    "    for i in range(len(arr)):\n",
    "        dict[arr[i]] += 1\n",
    "        while i - start + 1 - dict[arr[i]] > k:\n",
    "            dict[arr[start]] -= 1\n",
    "            start += 1\n",
    "        res = max(res, dict[arr[i]] + k)\n",
    "    return res\n",
    "length_of_longest_substring([0, 1, 0, 0, 1, 1, 0, 1, 1, 0, 0, 1, 1], 3)"
   ]
  },
  {
   "cell_type": "code",
   "execution_count": null,
   "metadata": {},
   "outputs": [],
   "source": [
    "def find_permutation(str1, pattern):\n",
    "    start, dictstr, dictpat, res = 0, {}, {}, False\n",
    "    for i in pattern:\n",
    "        if i not in dictpat:\n",
    "            dictpat[i] = 0\n",
    "        dictpat[i] += 1\n",
    "    for i in str1:\n",
    "        if i not in dictstr:\n",
    "            dictstr[i] = 0\n",
    "        dictstr[i] += 1\n",
    "        \n",
    "        if i in dictpat:\n",
    "            while dictstr[i] > dictpat[i]:\n",
    "                dictstr[str1[start]] -= 1\n",
    "                if(dictstr[str1[start]] == 0):\n",
    "                    del dictstr[str1[start]]\n",
    "                start += 1\n",
    "        else:\n",
    "            dictstr = {}\n",
    "            start += 1\n",
    "        print(dictstr)\n",
    "        print(len(dictstr))\n",
    "        print(len(dictpat))\n",
    "        if(len(dictstr) == len(dictpat)):\n",
    "            res = True\n",
    "        print(res)\n",
    "    return res\n",
    "print(find_permutation(\"odicf\", \"dc\"))"
   ]
  },
  {
   "cell_type": "code",
   "execution_count": null,
   "metadata": {},
   "outputs": [],
   "source": [
    "def find_string_anagrams(str1, pattern):\n",
    "    result_indexes = []\n",
    "    pat, start = {}, 0\n",
    "    for i in pattern:\n",
    "        if i not in pat:\n",
    "            pat[i] = 0\n",
    "        pat[i] += 1\n",
    "    for i in range(len(str1)):\n",
    "        if str1[i] in pat:\n",
    "            if pat[str1[start]] < 0 or pat[str1[i]] == 0:\n",
    "                result_indexes.remove(start)\n",
    "                pat[str1[start]] += 1\n",
    "                start += 1\n",
    "            pat[str1[i]] -= 1\n",
    "            result_indexes.append(i)\n",
    "            print(pat)\n",
    "            print(result_indexes)\n",
    "            if(len(result_indexes) == len(pat)):\n",
    "                return result_indexes \n",
    "        else:\n",
    "            start += 1\n",
    "            result_indexes = []         \n",
    "    return result_indexes\n",
    "find_string_anagrams(\"abbcabc\", \"abc\")"
   ]
  },
  {
   "cell_type": "code",
   "execution_count": null,
   "metadata": {},
   "outputs": [],
   "source": [
    "def find_substring(str1, pattern):\n",
    "  start, dict, str = 0, {}, 0, \"\"\n",
    "  for i in pattern:\n",
    "    if i not in dict:\n",
    "      dict[i] = 0\n",
    "    dict[i] += 1\n",
    "  for j, v in enumerate(str1):\n",
    "    if v in dict:    \n",
    "  return \"\"\n",
    "find_substring(\"aabdec\", \"abc\")"
   ]
  },
  {
   "cell_type": "code",
   "execution_count": null,
   "metadata": {},
   "outputs": [],
   "source": [
    "def medianSlidingWindow(nums, k) :\n",
    "        lst, start, sum = [], 0, 0\n",
    "        for i, v in enumerate(nums):\n",
    "            sum += v\n",
    "            if i >= k - 1:\n",
    "                lst.append( sum / k)\n",
    "                sum -= nums[start]\n",
    "                print(sum)\n",
    "                start += 1\n",
    "        return lst\n",
    "medianSlidingWindow([1,3,-1,-3,5,3,6,7], 3)"
   ]
  }
 ],
 "metadata": {
  "interpreter": {
   "hash": "f378046ff75005a1ff49e1f5139c41f091d03217a7661343287a9297ad9ffbe5"
  },
  "kernelspec": {
   "display_name": "Python 3.10.4 64-bit (windows store)",
   "language": "python",
   "name": "python3"
  },
  "language_info": {
   "codemirror_mode": {
    "name": "ipython",
    "version": 3
   },
   "file_extension": ".py",
   "mimetype": "text/x-python",
   "name": "python",
   "nbconvert_exporter": "python",
   "pygments_lexer": "ipython3",
   "version": "3.10.4"
  },
  "orig_nbformat": 4
 },
 "nbformat": 4,
 "nbformat_minor": 2
}
