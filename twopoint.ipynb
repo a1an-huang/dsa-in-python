{
 "cells": [
  {
   "cell_type": "code",
   "execution_count": null,
   "metadata": {},
   "outputs": [],
   "source": [
    "def pair_with_targetsum(arr, target_sum):\n",
    "    sptr, fptr = 0, len(arr) - 1\n",
    "    while sptr < fptr:\n",
    "        if arr[sptr] + arr[fptr] == target_sum:\n",
    "            return [sptr, fptr]\n",
    "        if arr[sptr] + arr[fptr] > target_sum:\n",
    "            fptr -= 1\n",
    "        else:\n",
    "            sptr += 1\n",
    "    return []\n",
    "pair_with_targetsum([1, 2, 3, 4, 6], 6)"
   ]
  },
  {
   "cell_type": "code",
   "execution_count": null,
   "metadata": {},
   "outputs": [],
   "source": [
    "def remove_duplicates(arr):\n",
    "    sptr, fptr = 0, 1\n",
    "    while fptr < len(arr):\n",
    "        if arr[sptr] == arr[fptr]:\n",
    "            del arr[fptr]\n",
    "        else:\n",
    "            sptr += 1\n",
    "            fptr += 1\n",
    "    return len(arr)\n",
    "remove_duplicates([2, 3, 3, 3, 3, 3, 3, 6, 9, 9])"
   ]
  },
  {
   "cell_type": "code",
   "execution_count": null,
   "metadata": {},
   "outputs": [],
   "source": [
    "def make_squares(arr): \n",
    "  squares = []\n",
    "  ptr = int(len(arr)/2)\n",
    "  ptr2 = ptr + 1\n",
    "  while len(squares) < len(arr):\n",
    "    if ptr < 0:\n",
    "      squares.append(pow(arr[ptr2], 2))\n",
    "    elif ptr2 > len(arr) - 1:\n",
    "      squares.append(pow(arr[ptr], 2))\n",
    "    elif abs(arr[ptr]) < abs(arr[ptr2]):\n",
    "      squares.append(pow(arr[ptr], 2))\n",
    "      ptr -= 1\n",
    "    else:\n",
    "      squares.append(pow(arr[ptr2], 2))\n",
    "      ptr2 += 1\n",
    "  return squares\n",
    "make_squares([-3, -1, 0, 1, 2])\n"
   ]
  },
  {
   "cell_type": "code",
   "execution_count": null,
   "metadata": {},
   "outputs": [],
   "source": [
    "def threeSum(nums):\n",
    "        nums.sort()\n",
    "        lst = []\n",
    "        for i in range(len(nums) - 2):\n",
    "            if i != 0 and nums[i] == nums[i - 1]:\n",
    "                continue\n",
    "            l, r = i + 1, len(nums) - 1\n",
    "            while l < r:\n",
    "                if l != i + 1 and nums[l] == nums[l - 1]:\n",
    "                    l += 1\n",
    "                    continue\n",
    "                if nums[i] + nums[l] + nums[r] == 0:\n",
    "                    lst.append([nums[i], nums[l], nums[r]])\n",
    "                if  nums[i] + nums[l] + nums[r] > 0:\n",
    "                    r -= 1\n",
    "                else:\n",
    "                    l += 1\n",
    "        return lst\n",
    "threeSum([0,0,0,0])\n"
   ]
  },
  {
   "cell_type": "code",
   "execution_count": null,
   "metadata": {},
   "outputs": [],
   "source": [
    "def threeSumMulti(arr , target):\n",
    "        arr.sort()\n",
    "        count = 0\n",
    "        for i in range(0, len(arr) - 2):\n",
    "            l = i + 1\n",
    "            r = len(arr) - 1\n",
    "            while l < r:\n",
    "                print(f\"{i}  {l} {r}  =  {arr[i] + arr[l] + arr[r]} count : {count}\" )\n",
    "                if arr[i] + arr[l] + arr[r] == target:\n",
    "                    count += 1\n",
    "                r -= 1\n",
    "        return count % 1000000007\n",
    "threeSumMulti([1,1,2,2,2,2], 5)"
   ]
  },
  {
   "cell_type": "code",
   "execution_count": null,
   "metadata": {},
   "outputs": [],
   "source": [
    "def isPalindrome(s):\n",
    "        l, r = 0, len(s) - 1\n",
    "        s = s.lower()\n",
    "        while l < r:\n",
    "            print(f\"{s[l]} {s[r]}\")\n",
    "            while not s[l].isalnum():\n",
    "                    l += 1\n",
    "            while not s[r].isalnum():\n",
    "                    r -= 1\n",
    "            if s[l] != s[r]:\n",
    "                    return False\n",
    "            l += 1\n",
    "            r -= 1\n",
    "        return True\n",
    "isPalindrome(\"A man, a plan, a canal: Panama\")"
   ]
  }
 ],
 "metadata": {
  "interpreter": {
   "hash": "f378046ff75005a1ff49e1f5139c41f091d03217a7661343287a9297ad9ffbe5"
  },
  "kernelspec": {
   "display_name": "Python 3.10.4 64-bit (windows store)",
   "language": "python",
   "name": "python3"
  },
  "language_info": {
   "codemirror_mode": {
    "name": "ipython",
    "version": 3
   },
   "file_extension": ".py",
   "mimetype": "text/x-python",
   "name": "python",
   "nbconvert_exporter": "python",
   "pygments_lexer": "ipython3",
   "version": "3.10.4"
  },
  "orig_nbformat": 4
 },
 "nbformat": 4,
 "nbformat_minor": 2
}
